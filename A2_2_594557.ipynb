{
  "nbformat": 4,
  "nbformat_minor": 0,
  "metadata": {
    "colab": {
      "provenance": [],
      "authorship_tag": "ABX9TyPbJKHDBqM9nsxMHGGCLsKr",
      "include_colab_link": true
    },
    "kernelspec": {
      "name": "python3",
      "display_name": "Python 3"
    },
    "language_info": {
      "name": "python"
    }
  },
  "cells": [
    {
      "cell_type": "markdown",
      "metadata": {
        "id": "view-in-github",
        "colab_type": "text"
      },
      "source": [
        "<a href=\"https://colab.research.google.com/github/hectorcamachoz/LDA_Arboles_de_Decisiones/blob/main/A2_2_594557.ipynb\" target=\"_parent\"><img src=\"https://colab.research.google.com/assets/colab-badge.svg\" alt=\"Open In Colab\"/></a>"
      ]
    },
    {
      "cell_type": "markdown",
      "source": [
        "# LDA y Árboles de Decisiones"
      ],
      "metadata": {
        "id": "B3vRSEAdRjSP"
      }
    },
    {
      "cell_type": "markdown",
      "source": [
        "1. Se utilizara la base de datos del repositorio llamado Proyecto_1_InteligenciaArtificial, por lo tanto, se aplicaran todas las modificaciones que se hicieron a la base de datos en esa actividad, si quisieras conocer el porque de cada modificacion, lo podras encontrar en el repositorio mencionado.\n",
        "\n",
        "  Para comenzar se importaran los datos y se hara una particion 80 - 20 manteniendo un balance en las clases."
      ],
      "metadata": {
        "id": "qVJoLK9yJKUw"
      }
    },
    {
      "cell_type": "code",
      "execution_count": 12,
      "metadata": {
        "colab": {
          "base_uri": "https://localhost:8080/"
        },
        "id": "PhB0X1I8Rimv",
        "outputId": "336916a9-4c0d-4242-fa4d-a426f733119a"
      },
      "outputs": [
        {
          "output_type": "stream",
          "name": "stdout",
          "text": [
            "renta_del_dia\n",
            "1    587\n",
            "0    144\n",
            "Name: count, dtype: int64\n",
            "Distribución en y:\n",
            " renta_del_dia\n",
            "1    0.80301\n",
            "0    0.19699\n",
            "Name: proportion, dtype: float64\n",
            "\n",
            "Distribución en y_train:\n",
            " renta_del_dia\n",
            "1    0.803082\n",
            "0    0.196918\n",
            "Name: proportion, dtype: float64\n",
            "\n",
            "Distribución en y_test:\n",
            " renta_del_dia\n",
            "1    0.802721\n",
            "0    0.197279\n",
            "Name: proportion, dtype: float64\n"
          ]
        }
      ],
      "source": [
        "import pandas as pd\n",
        "\n",
        "df = pd.read_csv('day.csv')\n",
        "df = df.drop('instant', axis=1)\n",
        "df = df.drop('dteday', axis= 1)\n",
        "df = df.drop('mnth', axis = 1)\n",
        "df = df.drop('weekday', axis=1)\n",
        "df = pd.get_dummies(df, columns=['season', 'weathersit'],drop_first=False, dtype = int)\n",
        "df = df.drop('atemp', axis = 1)\n",
        "\n",
        "df = df.drop('casual', axis = 1)\n",
        "df = df.drop('registered', axis = 1)\n",
        "\n",
        "renta_del_dia = []\n",
        "\n",
        "for i in df['cnt']:\n",
        "    if i >= 2500:\n",
        "        renta_del_dia.append(1)\n",
        "    else:\n",
        "        renta_del_dia.append(0)\n",
        "df = pd.concat([df, pd.Series(renta_del_dia, name='renta_del_dia')], axis=1)\n",
        "df = df.drop('cnt', axis = 1)\n",
        "df.head()\n",
        "\n",
        "print(df.renta_del_dia.value_counts())\n",
        "\n",
        "x = df.drop('renta_del_dia', axis = 1)\n",
        "y = df['renta_del_dia']\n",
        "\n",
        "from sklearn.model_selection import train_test_split\n",
        "x_train, x_test, y_train, y_test = train_test_split(x, y, test_size = 0.2, stratify = y, random_state = 42)\n",
        "\n",
        "print(\"Distribución en y:\\n\", y.value_counts(normalize=True))\n",
        "print(\"\\nDistribución en y_train:\\n\", y_train.value_counts(normalize=True))\n",
        "print(\"\\nDistribución en y_test:\\n\", y_test.value_counts(normalize=True))"
      ]
    },
    {
      "cell_type": "markdown",
      "source": [
        "2. A continuacion se utilizara la funcion GLM de la libreria statsmodels, para realizar una regresion logistica simple para detectar cuales son las dos variables mas relevantes.\n"
      ],
      "metadata": {
        "id": "LmMrmXytL8yc"
      }
    },
    {
      "cell_type": "code",
      "source": [
        "import statsmodels.api as sm\n",
        "md_glm = sm.GLM(y_train, sm.add_constant(x_train), family=sm.families.Binomial())\n",
        "res_glm = md_glm.fit()\n",
        "print(res_glm.summary())"
      ],
      "metadata": {
        "colab": {
          "base_uri": "https://localhost:8080/"
        },
        "id": "xRNeX0c-MMet",
        "outputId": "ce230c7f-50d7-4901-d2c4-f4b89a7d2074"
      },
      "execution_count": 13,
      "outputs": [
        {
          "output_type": "stream",
          "name": "stdout",
          "text": [
            "                 Generalized Linear Model Regression Results                  \n",
            "==============================================================================\n",
            "Dep. Variable:          renta_del_dia   No. Observations:                  584\n",
            "Model:                            GLM   Df Residuals:                      572\n",
            "Model Family:                Binomial   Df Model:                           11\n",
            "Link Function:                  Logit   Scale:                          1.0000\n",
            "Method:                          IRLS   Log-Likelihood:                -86.929\n",
            "Date:                Thu, 20 Mar 2025   Deviance:                       173.86\n",
            "Time:                        01:47:03   Pearson chi2:                     979.\n",
            "No. Iterations:                     8   Pseudo R-squ. (CS):             0.5007\n",
            "Covariance Type:            nonrobust                                         \n",
            "================================================================================\n",
            "                   coef    std err          z      P>|z|      [0.025      0.975]\n",
            "--------------------------------------------------------------------------------\n",
            "const           -2.8477      1.053     -2.704      0.007      -4.911      -0.784\n",
            "yr               3.6452      0.548      6.648      0.000       2.571       4.720\n",
            "holiday         -1.6889      0.975     -1.732      0.083      -3.599       0.222\n",
            "workingday       0.6963      0.430      1.618      0.106      -0.147       1.540\n",
            "temp            19.2938      2.844      6.783      0.000      13.719      24.869\n",
            "hum             -4.3441      1.927     -2.255      0.024      -8.120      -0.568\n",
            "windspeed       -6.7783      2.679     -2.530      0.011     -12.029      -1.528\n",
            "season_1        -2.1350      0.484     -4.411      0.000      -3.084      -1.186\n",
            "season_2        -0.8219      0.514     -1.598      0.110      -1.830       0.186\n",
            "season_3        -1.2185      0.899     -1.355      0.175      -2.980       0.543\n",
            "season_4         1.3277      0.493      2.692      0.007       0.361       2.294\n",
            "weathersit_1     0.6372      0.386      1.650      0.099      -0.120       1.394\n",
            "weathersit_2     0.1843      0.492      0.374      0.708      -0.781       1.149\n",
            "weathersit_3    -3.6692      0.913     -4.019      0.000      -5.459      -1.880\n",
            "================================================================================\n"
          ]
        }
      ]
    },
    {
      "cell_type": "markdown",
      "source": [
        "Al observar los resultados del generalized linear model, podemos concluir que este modelo se ajusta al 50% de los datos. De acuerdo a chatGPT, otra de las formas para medir la calidad del modelo es con el Log-Likelihood, entre mas cercana a 0 mejor, en este caso dio como resultado -86.9. Para seleccionar las dos variables mas siginificativas, se tomara en cuenta el P-value, por lo tanto se eligira la variable yr (año) y la variable de temp (Temperatura)."
      ],
      "metadata": {
        "id": "dqIb3Kt0P6sq"
      }
    },
    {
      "cell_type": "code",
      "source": [
        "x_train = x_train.filter(items=['yr', 'temp'])\n",
        "x_test = x_test.filter(items=['yr', 'temp'])\n"
      ],
      "metadata": {
        "colab": {
          "base_uri": "https://localhost:8080/"
        },
        "id": "Dhok1iWoP6ch",
        "outputId": "34026075-2bb5-4f71-a239-0d8aa7284650"
      },
      "execution_count": 14,
      "outputs": [
        {
          "output_type": "stream",
          "name": "stdout",
          "text": [
            "     yr      temp\n",
            "89    0  0.268333\n",
            "181   0  0.722500\n",
            "650   1  0.437500\n",
            "147   0  0.655833\n",
            "349   0  0.375000\n",
            "..   ..       ...\n",
            "340   0  0.410000\n",
            "428   1  0.325833\n",
            "425   1  0.485833\n",
            "361   0  0.299130\n",
            "400   1  0.265833\n",
            "\n",
            "[584 rows x 2 columns]\n"
          ]
        }
      ]
    },
    {
      "cell_type": "markdown",
      "source": [
        "3. Se generara otro modelo, esta vez utilizando la funcion LinearDiscriminantAnalysis de sklearn.discriminant_analysis, y se realizara una grafica para una observacion mas sencilla"
      ],
      "metadata": {
        "id": "1Cc98xb9Tsed"
      }
    },
    {
      "cell_type": "code",
      "source": [
        "import sklearn.discriminant_analysis as LDA\n",
        "import matplotlib.pyplot as plt\n",
        "import numpy as np\n",
        "\n",
        "colors = {0: 'red', 1: 'blue'}\n",
        "md_LDA = LDA.LinearDiscriminantAnalysis()\n",
        "md_LDA.fit(x_train, y_train)\n",
        "y_pred_proba = md_LDA.predict_proba(x_test)\n",
        "y_pred = md_LDA.predict(x_test)\n",
        "for clase in np.unique(y):\n",
        "    plt.scatter(x_train['yr'],\n",
        "                x_train['temp'],\n",
        "                color=colors[clase],\n",
        "                label=f'Clase {clase}')\n",
        "\n",
        "# Trazar la frontera de decisión\n",
        "x_min, x_max = x_train['yr'].min() - 1, x_train['yr'].max() + 1\n",
        "y_min, y_max = x_train['temp'].min() - 1, x_train['temp'].max() + 1\n",
        "xx, yy = np.meshgrid(np.linspace(x_min, x_max, 200),\n",
        "                     np.linspace(y_min, y_max, 200))\n",
        "Z = md_LDA.predict(np.c_[xx.ravel(), yy.ravel()])\n",
        "Z = Z.reshape(xx.shape)\n",
        "\n",
        "plt.contourf(xx, yy, Z, alpha=0.3, cmap='coolwarm')\n",
        "\n",
        "plt.xlabel('Variable 1')\n",
        "plt.ylabel('Variable 2')\n",
        "plt.title('Análisis Discriminante Lineal (LDA)')\n",
        "plt.legend()\n",
        "plt.show()"
      ],
      "metadata": {
        "colab": {
          "base_uri": "https://localhost:8080/",
          "height": 507
        },
        "id": "ajlz6QObUB-3",
        "outputId": "27cb19b5-4831-460e-d2b3-e66ab0fd7ddb"
      },
      "execution_count": 20,
      "outputs": [
        {
          "output_type": "stream",
          "name": "stderr",
          "text": [
            "/usr/local/lib/python3.11/dist-packages/sklearn/utils/validation.py:2739: UserWarning: X does not have valid feature names, but LinearDiscriminantAnalysis was fitted with feature names\n",
            "  warnings.warn(\n"
          ]
        },
        {
          "output_type": "display_data",
          "data": {
            "text/plain": [
              "<Figure size 640x480 with 1 Axes>"
            ],
            "image/png": "[encoded data removed]"
          },
          "metadata": {}
        }
      ]
    }
  ]
}